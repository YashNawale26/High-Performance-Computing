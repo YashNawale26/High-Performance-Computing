{
  "nbformat": 4,
  "nbformat_minor": 0,
  "metadata": {
    "colab": {
      "provenance": [],
      "toc_visible": true,
      "gpuType": "T4"
    },
    "kernelspec": {
      "name": "python3",
      "display_name": "Python 3"
    },
    "language_info": {
      "name": "python"
    },
    "accelerator": "GPU"
  },
  "cells": [
    {
      "cell_type": "code",
      "execution_count": null,
      "metadata": {
        "colab": {
          "base_uri": "https://localhost:8080/"
        },
        "id": "gGC8Gk-NMBso",
        "outputId": "582a0038-9595-4e4a-977c-352777c8ad0c"
      },
      "outputs": [
        {
          "output_type": "stream",
          "name": "stdout",
          "text": [
            "Overwriting cuda_device_info.cu\n"
          ]
        }
      ],
      "source": [
        "%%writefile cuda_device_info.cu\n",
        "#include <stdio.h>\n",
        "#include <stdlib.h>\n",
        "int main()\n",
        "{\n",
        "    \tint deviceCount;\n",
        "    \tcudaGetDeviceCount(&deviceCount);\n",
        "    \tif (deviceCount == 0)\n",
        "\t{\n",
        "        \tprintf(\"There is no device supporting CUDA\\n\");\n",
        "\t}\n",
        "    \tint dev;\n",
        "    \tfor (dev = 0; dev < deviceCount; ++dev)\n",
        "\t{\n",
        "        \tcudaDeviceProp deviceProp;\n",
        "        \tcudaGetDeviceProperties(&deviceProp, dev);\n",
        "        \tif (dev == 0)\n",
        "\t\t{\n",
        "            \t\tif (deviceProp.major < 1)\n",
        "                \t{\n",
        "\t\t\t\tprintf(\"There is no device supporting CUDA.\\n\");\n",
        "\t\t\t}\n",
        "            \t\telse if (deviceCount == 1)\n",
        "\t\t\t{\n",
        "                \t\tprintf(\"There is 1 device supporting CUDA\\n\");\n",
        "\t\t\t}\n",
        "            \t\telse\n",
        "                \t{\n",
        "\t\t\t\tprintf(\"There are %d devices supporting CUDA\\n\", deviceCount);\n",
        "\t\t\t}\n",
        "        \t}\n",
        "        \tprintf(\"\\nDevice %d: \\\"%s\\\"\\n\", dev, deviceProp.name);\n",
        "        \tprintf(\"  Major revision number:                         %d\\n\", deviceProp.major);\n",
        "        \tprintf(\"  Minor revision number:                         %d\\n\", deviceProp.minor);\n",
        "        \tprintf(\"  Total amount of global memory:                 %d bytes\\n\", deviceProp.totalGlobalMem);\n",
        "        \tprintf(\"  Total amount of constant memory:               %d bytes\\n\", deviceProp.totalConstMem);\n",
        "        \tprintf(\"  Total amount of shared memory per block:       %d bytes\\n\", deviceProp.sharedMemPerBlock);\n",
        "        \tprintf(\"  Total number of registers available per block: %d\\n\", deviceProp.regsPerBlock);\n",
        "        \tprintf(\"  Warp size:                                     %d\\n\", deviceProp.warpSize);\n",
        "\t\tprintf(\"  Multiprocessor count:                          %d\\n\",deviceProp.multiProcessorCount );\n",
        "\n",
        "        \tprintf(\"  Maximum number of threads per block:           %d\\n\", deviceProp.maxThreadsPerBlock);\n",
        "        \tprintf(\"  Maximum sizes of each dimension of a block:    %d x %d x %d\\n\", deviceProp.maxThreadsDim[0],deviceProp.maxThreadsDim[1], deviceProp.maxThreadsDim[2]);\n",
        "        \tprintf(\"  Maximum sizes of each dimension of a grid:     %d x %d x %d\\n\", deviceProp.maxGridSize[0], deviceProp.maxGridSize[1],  deviceProp.maxGridSize[2]);\n",
        "        \tprintf(\"  Maximum memory pitch:                          %d bytes\\n\", deviceProp.memPitch);\n",
        "        \tprintf(\"  Texture alignment:                             %d bytes\\n\", deviceProp.textureAlignment);\n",
        "        \tprintf(\"  Clock rate:                                    %d kilohertz\\n\", deviceProp.clockRate);\n",
        "    \t}\n",
        "}\n"
      ]
    },
    {
      "cell_type": "code",
      "source": [
        "!nvcc --version"
      ],
      "metadata": {
        "colab": {
          "base_uri": "https://localhost:8080/"
        },
        "id": "jd0fUi6NNMNv",
        "outputId": "a319eada-5d4f-4ef8-a074-c0d9236605b8"
      },
      "execution_count": null,
      "outputs": [
        {
          "output_type": "stream",
          "name": "stdout",
          "text": [
            "nvcc: NVIDIA (R) Cuda compiler driver\n",
            "Copyright (c) 2005-2023 NVIDIA Corporation\n",
            "Built on Tue_Aug_15_22:02:13_PDT_2023\n",
            "Cuda compilation tools, release 12.2, V12.2.140\n",
            "Build cuda_12.2.r12.2/compiler.33191640_0\n"
          ]
        }
      ]
    },
    {
      "cell_type": "code",
      "source": [
        "!pip install nvcc4jupyter\n"
      ],
      "metadata": {
        "colab": {
          "base_uri": "https://localhost:8080/"
        },
        "id": "HYttb8bQNdet",
        "outputId": "57a6acf2-0c2a-442b-fda1-a4f40ac213ec"
      },
      "execution_count": null,
      "outputs": [
        {
          "output_type": "stream",
          "name": "stdout",
          "text": [
            "Collecting nvcc4jupyter\n",
            "  Downloading nvcc4jupyter-1.2.1-py3-none-any.whl.metadata (5.1 kB)\n",
            "Downloading nvcc4jupyter-1.2.1-py3-none-any.whl (10 kB)\n",
            "Installing collected packages: nvcc4jupyter\n",
            "Successfully installed nvcc4jupyter-1.2.1\n"
          ]
        }
      ]
    },
    {
      "cell_type": "code",
      "source": [
        "%load_ext nvcc4jupyter"
      ],
      "metadata": {
        "colab": {
          "base_uri": "https://localhost:8080/"
        },
        "id": "qs_qls-JNs36",
        "outputId": "bfe57c6c-5c24-4025-dc4b-5c5dca548c7f"
      },
      "execution_count": null,
      "outputs": [
        {
          "output_type": "stream",
          "name": "stdout",
          "text": [
            "Detected platform \"Colab\". Running its setup...\n",
            "Source files will be saved in \"/tmp/tmpic4sac0h\".\n"
          ]
        }
      ]
    },
    {
      "cell_type": "code",
      "source": [
        "%%writefile cuda_device_info.cu\n",
        "#include <stdio.h>\n",
        "#include <cuda_runtime.h>  // Ensure the right CUDA runtime header is included\n",
        "\n",
        "int main()\n",
        "{\n",
        "    int deviceCount;\n",
        "    cudaError_t err = cudaGetDeviceCount(&deviceCount);\n",
        "\n",
        "    if (err != cudaSuccess)\n",
        "    {\n",
        "        printf(\"Error fetching device count: %s\\n\", cudaGetErrorString(err));\n",
        "        return -1;\n",
        "    }\n",
        "\n",
        "    if (deviceCount == 0)\n",
        "    {\n",
        "        printf(\"There is no device supporting CUDA\\n\");\n",
        "        return -1;\n",
        "    }\n",
        "\n",
        "    for (int dev = 0; dev < deviceCount; ++dev)\n",
        "    {\n",
        "        cudaDeviceProp deviceProp;\n",
        "        err = cudaGetDeviceProperties(&deviceProp, dev);\n",
        "\n",
        "        if (err != cudaSuccess)\n",
        "        {\n",
        "            printf(\"Error fetching properties for device %d: %s\\n\", dev, cudaGetErrorString(err));\n",
        "            continue;\n",
        "        }\n",
        "\n",
        "        if (dev == 0)\n",
        "        {\n",
        "            if (deviceProp.major < 1)\n",
        "            {\n",
        "                printf(\"There is no device supporting CUDA.\\n\");\n",
        "                return -1;\n",
        "            }\n",
        "            else if (deviceCount == 1)\n",
        "            {\n",
        "                printf(\"There is 1 device supporting CUDA\\n\");\n",
        "            }\n",
        "            else\n",
        "            {\n",
        "                printf(\"There are %d devices supporting CUDA\\n\", deviceCount);\n",
        "            }\n",
        "        }\n",
        "\n",
        "        printf(\"\\nDevice %d: \\\"%s\\\"\\n\", dev, deviceProp.name);\n",
        "        printf(\"  Major revision number:                         %d\\n\", deviceProp.major);\n",
        "        printf(\"  Minor revision number:                         %d\\n\", deviceProp.minor);\n",
        "        printf(\"  Total amount of global memory:                 %zu bytes\\n\", deviceProp.totalGlobalMem);\n",
        "        printf(\"  Total amount of constant memory:               %zu bytes\\n\", deviceProp.totalConstMem);\n",
        "        printf(\"  Total amount of shared memory per block:       %zu bytes\\n\", deviceProp.sharedMemPerBlock);\n",
        "        printf(\"  Total number of registers available per block: %d\\n\", deviceProp.regsPerBlock);\n",
        "        printf(\"  Warp size:                                     %d\\n\", deviceProp.warpSize);\n",
        "        printf(\"  Multiprocessor count:                          %d\\n\", deviceProp.multiProcessorCount);\n",
        "        printf(\"  Maximum number of threads per block:           %d\\n\", deviceProp.maxThreadsPerBlock);\n",
        "        printf(\"  Maximum sizes of each dimension of a block:    %d x %d x %d\\n\", deviceProp.maxThreadsDim[0], deviceProp.maxThreadsDim[1], deviceProp.maxThreadsDim[2]);\n",
        "        printf(\"  Maximum sizes of each dimension of a grid:     %d x %d x %d\\n\", deviceProp.maxGridSize[0], deviceProp.maxGridSize[1], deviceProp.maxGridSize[2]);\n",
        "        printf(\"  Maximum memory pitch:                          %zu bytes\\n\", deviceProp.memPitch);\n",
        "        printf(\"  Texture alignment:                             %zu bytes\\n\", deviceProp.textureAlignment);\n",
        "        printf(\"  Clock rate:                                    %d kilohertz\\n\", deviceProp.clockRate);\n",
        "    }\n",
        "\n",
        "    return 0;\n",
        "}\n"
      ],
      "metadata": {
        "colab": {
          "base_uri": "https://localhost:8080/"
        },
        "id": "V4DnuvMkN0c9",
        "outputId": "72bfef29-c890-4279-f965-81b2712669c9"
      },
      "execution_count": null,
      "outputs": [
        {
          "output_type": "stream",
          "name": "stdout",
          "text": [
            "Overwriting cuda_device_info.cu\n"
          ]
        }
      ]
    },
    {
      "cell_type": "code",
      "source": [
        "%%writefile cuda_device_info.cu\n",
        "#include <stdio.h>\n",
        "\n",
        "// Kernel function to print thread ID and \"Hello World\"\n",
        "__global__ void helloFromThread() {\n",
        "    // Get the thread ID\n",
        "    int threadId = threadIdx.x;\n",
        "\n",
        "    // Print thread ID and \"Hello World\" message\n",
        "    printf(\"Hello World from thread %d\\n\", threadId);\n",
        "}\n",
        "\n",
        "int main() {\n",
        "    // Define the number of threads (let's say we want 10 threads)\n",
        "    int numThreads = 10;\n",
        "\n",
        "    // Launch the kernel with 1 block and numThreads threads\n",
        "    helloFromThread<<<1, numThreads>>>();\n",
        "\n",
        "    // Wait for the GPU to finish before accessing the output\n",
        "    cudaDeviceSynchronize();\n",
        "\n",
        "    return 0;\n",
        "}\n"
      ],
      "metadata": {
        "colab": {
          "base_uri": "https://localhost:8080/"
        },
        "id": "FDGEXIvoQTm7",
        "outputId": "0bffa8e9-d0d1-4a93-d601-faa35d397883"
      },
      "execution_count": null,
      "outputs": [
        {
          "output_type": "stream",
          "name": "stdout",
          "text": [
            "Overwriting cuda_device_info.cu\n"
          ]
        }
      ]
    },
    {
      "cell_type": "markdown",
      "source": [
        "# New Section"
      ],
      "metadata": {
        "id": "EhHugDXNQr7m"
      }
    },
    {
      "cell_type": "code",
      "source": [
        "%%writefile helloFromThread.cu\n",
        "#include <iostream>\n",
        "#include <cuda_runtime.h>\n",
        "\n",
        "__global__ void helloFromThreads() {\n",
        "    int threadId = threadIdx.x;  // Get the thread ID within the block\n",
        "    printf(\"Hello World from Thread ID: %d\\n\", threadId);\n",
        "}\n",
        "\n",
        "int main() {\n",
        "    int numThreads = 10;  // Number of threads per block\n",
        "\n",
        "    // Launch the kernel with 1 block and numThreads threads\n",
        "    helloFromThreads<<<1, numThreads>>>();\n",
        "\n",
        "    // Synchronize to wait for all threads to finish\n",
        "    cudaDeviceSynchronize();\n",
        "\n",
        "    return 0;\n",
        "}\n"
      ],
      "metadata": {
        "colab": {
          "base_uri": "https://localhost:8080/"
        },
        "id": "SEA4h4rvDCwS",
        "outputId": "f349fba4-2f49-4212-aeb0-1eb9583ec629"
      },
      "execution_count": 3,
      "outputs": [
        {
          "output_type": "stream",
          "name": "stdout",
          "text": [
            "Writing helloFromThread.cu\n"
          ]
        }
      ]
    },
    {
      "cell_type": "code",
      "source": [
        "!nvcc helloFromThread.cu -o helloFromThread\n",
        "\n"
      ],
      "metadata": {
        "id": "X1Yt0x6bD7_o"
      },
      "execution_count": 9,
      "outputs": []
    },
    {
      "cell_type": "code",
      "source": [
        "!./helloFromThread"
      ],
      "metadata": {
        "colab": {
          "base_uri": "https://localhost:8080/"
        },
        "id": "1a-_wyqmEPw6",
        "outputId": "5f74cab6-ed20-4256-8184-6ce8f98ba0cb"
      },
      "execution_count": 10,
      "outputs": [
        {
          "output_type": "stream",
          "name": "stdout",
          "text": [
            "Hello World from Thread ID: 0\n",
            "Hello World from Thread ID: 1\n",
            "Hello World from Thread ID: 2\n",
            "Hello World from Thread ID: 3\n",
            "Hello World from Thread ID: 4\n",
            "Hello World from Thread ID: 5\n",
            "Hello World from Thread ID: 6\n",
            "Hello World from Thread ID: 7\n",
            "Hello World from Thread ID: 8\n",
            "Hello World from Thread ID: 9\n"
          ]
        }
      ]
    },
    {
      "cell_type": "code",
      "source": [
        "\n",
        "%%writefile global.cu\n",
        "#include <iostream>\n",
        "#include <cuda_runtime.h>\n",
        "\n",
        "__global__ void helloFromThreads() {\n",
        "    // Calculate global thread ID (threadIdx.x + blockIdx.x * blockDim.x)\n",
        "    int globalThreadId = blockIdx.x * blockDim.x + threadIdx.x;\n",
        "    printf(\"Hello World from Global Thread ID: %d\\n\", globalThreadId);\n",
        "}\n",
        "\n",
        "int main() {\n",
        "    int numBlocks = 2;      // Number of blocks\n",
        "    int numThreads = 5;     // Number of threads per block\n",
        "\n",
        "    // Launch the kernel with numBlocks and numThreads per block\n",
        "    helloFromThreads<<<numBlocks, numThreads>>>();\n",
        "\n",
        "    // Synchronize to wait for all threads to finish\n",
        "    cudaDeviceSynchronize();\n",
        "\n",
        "    return 0;\n",
        "}\n"
      ],
      "metadata": {
        "colab": {
          "base_uri": "https://localhost:8080/"
        },
        "id": "qQa-MIFJEqj4",
        "outputId": "370d390a-1469-46a5-8eb9-57d5d7509d98"
      },
      "execution_count": 11,
      "outputs": [
        {
          "output_type": "stream",
          "name": "stdout",
          "text": [
            "Writing global.cu\n"
          ]
        }
      ]
    },
    {
      "cell_type": "code",
      "source": [
        "!nvcc global.cu -o global\n"
      ],
      "metadata": {
        "id": "D9MwhGzcE3_M"
      },
      "execution_count": 12,
      "outputs": []
    },
    {
      "cell_type": "code",
      "source": [
        "!./global"
      ],
      "metadata": {
        "colab": {
          "base_uri": "https://localhost:8080/"
        },
        "id": "nXuNiv2DE8Zm",
        "outputId": "dcebd6ab-684e-4a3e-ce9d-ef70acad4f4a"
      },
      "execution_count": 13,
      "outputs": [
        {
          "output_type": "stream",
          "name": "stdout",
          "text": [
            "Hello World from Global Thread ID: 0\n",
            "Hello World from Global Thread ID: 1\n",
            "Hello World from Global Thread ID: 2\n",
            "Hello World from Global Thread ID: 3\n",
            "Hello World from Global Thread ID: 4\n",
            "Hello World from Global Thread ID: 5\n",
            "Hello World from Global Thread ID: 6\n",
            "Hello World from Global Thread ID: 7\n",
            "Hello World from Global Thread ID: 8\n",
            "Hello World from Global Thread ID: 9\n"
          ]
        }
      ]
    },
    {
      "cell_type": "code",
      "source": [
        "%%writefile 2dthread.cu\n",
        "#include <iostream>\n",
        "#include <cuda_runtime.h>\n",
        "\n",
        "__global__ void helloFrom2DThreads() {\n",
        "    // Get the 2D block index and thread index\n",
        "    int blockX = blockIdx.x;\n",
        "    int blockY = blockIdx.y;\n",
        "    int threadX = threadIdx.x;\n",
        "    int threadY = threadIdx.y;\n",
        "\n",
        "    // Print the block and thread IDs in 2D\n",
        "    printf(\"Hello World from Block(%d, %d) Thread(%d, %d)\\n\", blockX, blockY, threadX, threadY);\n",
        "}\n",
        "\n",
        "int main() {\n",
        "    // Define 2D block and thread dimensions\n",
        "    dim3 numBlocks(2, 2);      // 2x2 blocks\n",
        "    dim3 numThreads(3, 3);     // 3x3 threads per block\n",
        "\n",
        "    // Launch the kernel with 2D blocks and 2D threads\n",
        "    helloFrom2DThreads<<<numBlocks, numThreads>>>();\n",
        "\n",
        "    // Synchronize to wait for all threads to finish\n",
        "    cudaDeviceSynchronize();\n",
        "\n",
        "    return 0;\n",
        "}\n"
      ],
      "metadata": {
        "colab": {
          "base_uri": "https://localhost:8080/"
        },
        "id": "A_EdvH_jFApX",
        "outputId": "0bc0c7dc-a1bd-4066-cbb5-c85dd748e8d4"
      },
      "execution_count": 14,
      "outputs": [
        {
          "output_type": "stream",
          "name": "stdout",
          "text": [
            "Writing 2dthread.cu\n"
          ]
        }
      ]
    },
    {
      "cell_type": "code",
      "source": [
        "!nvcc 2dthread.cu -o 2dthread"
      ],
      "metadata": {
        "id": "jCUFZQuuFJQU"
      },
      "execution_count": 15,
      "outputs": []
    },
    {
      "cell_type": "code",
      "source": [
        "!./2dthread"
      ],
      "metadata": {
        "colab": {
          "base_uri": "https://localhost:8080/"
        },
        "id": "sqEYEKDZFPS_",
        "outputId": "70a26284-6a05-4d3f-d023-2845306754a0"
      },
      "execution_count": 16,
      "outputs": [
        {
          "output_type": "stream",
          "name": "stdout",
          "text": [
            "Hello World from Block(0, 1) Thread(0, 0)\n",
            "Hello World from Block(0, 1) Thread(1, 0)\n",
            "Hello World from Block(0, 1) Thread(2, 0)\n",
            "Hello World from Block(0, 1) Thread(0, 1)\n",
            "Hello World from Block(0, 1) Thread(1, 1)\n",
            "Hello World from Block(0, 1) Thread(2, 1)\n",
            "Hello World from Block(0, 1) Thread(0, 2)\n",
            "Hello World from Block(0, 1) Thread(1, 2)\n",
            "Hello World from Block(0, 1) Thread(2, 2)\n",
            "Hello World from Block(0, 0) Thread(0, 0)\n",
            "Hello World from Block(0, 0) Thread(1, 0)\n",
            "Hello World from Block(0, 0) Thread(2, 0)\n",
            "Hello World from Block(0, 0) Thread(0, 1)\n",
            "Hello World from Block(0, 0) Thread(1, 1)\n",
            "Hello World from Block(0, 0) Thread(2, 1)\n",
            "Hello World from Block(0, 0) Thread(0, 2)\n",
            "Hello World from Block(0, 0) Thread(1, 2)\n",
            "Hello World from Block(0, 0) Thread(2, 2)\n",
            "Hello World from Block(1, 1) Thread(0, 0)\n",
            "Hello World from Block(1, 1) Thread(1, 0)\n",
            "Hello World from Block(1, 1) Thread(2, 0)\n",
            "Hello World from Block(1, 1) Thread(0, 1)\n",
            "Hello World from Block(1, 1) Thread(1, 1)\n",
            "Hello World from Block(1, 1) Thread(2, 1)\n",
            "Hello World from Block(1, 1) Thread(0, 2)\n",
            "Hello World from Block(1, 1) Thread(1, 2)\n",
            "Hello World from Block(1, 1) Thread(2, 2)\n",
            "Hello World from Block(1, 0) Thread(0, 0)\n",
            "Hello World from Block(1, 0) Thread(1, 0)\n",
            "Hello World from Block(1, 0) Thread(2, 0)\n",
            "Hello World from Block(1, 0) Thread(0, 1)\n",
            "Hello World from Block(1, 0) Thread(1, 1)\n",
            "Hello World from Block(1, 0) Thread(2, 1)\n",
            "Hello World from Block(1, 0) Thread(0, 2)\n",
            "Hello World from Block(1, 0) Thread(1, 2)\n",
            "Hello World from Block(1, 0) Thread(2, 2)\n"
          ]
        }
      ]
    },
    {
      "cell_type": "code",
      "source": [],
      "metadata": {
        "id": "n-yzXUGoFRqf"
      },
      "execution_count": null,
      "outputs": []
    }
  ]
}