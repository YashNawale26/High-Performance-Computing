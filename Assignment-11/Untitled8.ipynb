{
  "nbformat": 4,
  "nbformat_minor": 0,
  "metadata": {
    "colab": {
      "provenance": [],
      "gpuType": "T4"
    },
    "kernelspec": {
      "name": "python3",
      "display_name": "Python 3"
    },
    "language_info": {
      "name": "python"
    },
    "accelerator": "GPU"
  },
  "cells": [
    {
      "cell_type": "markdown",
      "source": [],
      "metadata": {
        "id": "zP7ddJNRNlgb"
      }
    },
    {
      "cell_type": "code",
      "execution_count": 4,
      "metadata": {
        "colab": {
          "base_uri": "https://localhost:8080/"
        },
        "id": "LemaG4h6NBXi",
        "outputId": "77b52112-433c-44aa-a9c1-8d05ffe40a66"
      },
      "outputs": [
        {
          "output_type": "stream",
          "name": "stdout",
          "text": [
            "Overwriting cuda_device_info.cu\n"
          ]
        }
      ],
      "source": [
        "%%writefile cuda_device_info.cu\n",
        "#include <stdio.h>\n",
        "#include <stdlib.h>\n",
        "int main()\n",
        "{\n",
        "    \tint deviceCount;\n",
        "    \tcudaGetDeviceCount(&deviceCount);\n",
        "    \tif (deviceCount == 0)\n",
        "\t{\n",
        "        \tprintf(\"There is no device supporting CUDA\\n\");\n",
        "\t}\n",
        "    \tint dev;\n",
        "    \tfor (dev = 0; dev < deviceCount; ++dev)\n",
        "\t{\n",
        "        \tcudaDeviceProp deviceProp;\n",
        "        \tcudaGetDeviceProperties(&deviceProp, dev);\n",
        "        \tif (dev == 0)\n",
        "\t\t{\n",
        "            \t\tif (deviceProp.major < 1)\n",
        "                \t{\n",
        "\t\t\t\tprintf(\"There is no device supporting CUDA.\\n\");\n",
        "\t\t\t}\n",
        "            \t\telse if (deviceCount == 1)\n",
        "\t\t\t{\n",
        "                \t\tprintf(\"There is 1 device supporting CUDA\\n\");\n",
        "\t\t\t}\n",
        "            \t\telse\n",
        "                \t{\n",
        "\t\t\t\tprintf(\"There are %d devices supporting CUDA\\n\", deviceCount);\n",
        "\t\t\t}\n",
        "        \t}\n",
        "        \tprintf(\"\\nDevice %d: \\\"%s\\\"\\n\", dev, deviceProp.name);\n",
        "        \tprintf(\"  Major revision number:                         %d\\n\", deviceProp.major);\n",
        "        \tprintf(\"  Minor revision number:                         %d\\n\", deviceProp.minor);\n",
        "        \tprintf(\"  Total amount of global memory:                 %zu bytes\\n\", deviceProp.totalGlobalMem);\n",
        "        \tprintf(\"  Total amount of constant memory:               %zu bytes\\n\", deviceProp.totalConstMem);\n",
        "        \tprintf(\"  Total amount of shared memory per block:       %zu bytes\\n\", deviceProp.sharedMemPerBlock);\n",
        "        \tprintf(\"  Total number of registers available per block: %d\\n\", deviceProp.regsPerBlock);\n",
        "        \tprintf(\"  Warp size:                                     %d\\n\", deviceProp.warpSize);\n",
        "\t\tprintf(\"  Multiprocessor count:                          %d\\n\",deviceProp.multiProcessorCount );\n",
        "\n",
        "        \tprintf(\"  Maximum number of threads per block:           %d\\n\", deviceProp.maxThreadsPerBlock);\n",
        "        \tprintf(\"  Maximum sizes of each dimension of a block:    %d x %d x %d\\n\", deviceProp.maxThreadsDim[0],deviceProp.maxThreadsDim[1], deviceProp.maxThreadsDim[2]);\n",
        "        \tprintf(\"  Maximum sizes of each dimension of a grid:     %d x %d x %d\\n\", deviceProp.maxGridSize[0], deviceProp.maxGridSize[1],  deviceProp.maxGridSize[2]);\n",
        "        \tprintf(\"  Maximum memory pitch:                          %zu bytes\\n\", deviceProp.memPitch);\n",
        "        \tprintf(\"  Texture alignment:                             %zu bytes\\n\", deviceProp.textureAlignment);\n",
        "        \tprintf(\"  Clock rate:                                    %d kilohertz\\n\", deviceProp.clockRate);\n",
        "    \t}\n",
        "}\n"
      ]
    },
    {
      "cell_type": "code",
      "source": [
        "!nvcc cuda_device_info.cu -o cuda_device_info"
      ],
      "metadata": {
        "id": "kUi5BjPyNm3A"
      },
      "execution_count": 5,
      "outputs": []
    },
    {
      "cell_type": "code",
      "source": [
        "!./cuda_device_info"
      ],
      "metadata": {
        "colab": {
          "base_uri": "https://localhost:8080/"
        },
        "id": "t1XSLKVHNt0q",
        "outputId": "df86f55f-8bce-4c40-e36d-307ad66d9acc"
      },
      "execution_count": 6,
      "outputs": [
        {
          "output_type": "stream",
          "name": "stdout",
          "text": [
            "There is 1 device supporting CUDA\n",
            "\n",
            "Device 0: \"Tesla T4\"\n",
            "  Major revision number:                         7\n",
            "  Minor revision number:                         5\n",
            "  Total amount of global memory:                 15835660288 bytes\n",
            "  Total amount of constant memory:               65536 bytes\n",
            "  Total amount of shared memory per block:       49152 bytes\n",
            "  Total number of registers available per block: 65536\n",
            "  Warp size:                                     32\n",
            "  Multiprocessor count:                          40\n",
            "  Maximum number of threads per block:           1024\n",
            "  Maximum sizes of each dimension of a block:    1024 x 1024 x 64\n",
            "  Maximum sizes of each dimension of a grid:     2147483647 x 65535 x 65535\n",
            "  Maximum memory pitch:                          2147483647 bytes\n",
            "  Texture alignment:                             512 bytes\n",
            "  Clock rate:                                    1590000 kilohertz\n"
          ]
        }
      ]
    },
    {
      "cell_type": "code",
      "source": [
        "%%writefile helloFromThread.cu\n",
        "#include <iostream>\n",
        "#include <cuda_runtime.h>\n",
        "\n",
        "__global__ void helloFromThreads() {\n",
        "    int threadId = threadIdx.x;  // Get the thread ID within the block\n",
        "    printf(\"Hello World from Thread ID: %d\\n\", threadId);\n",
        "}\n",
        "\n",
        "int main() {\n",
        "    int numThreads = 10;  // Number of threads per block\n",
        "\n",
        "    // Launch the kernel with 1 block and numThreads threads\n",
        "    helloFromThreads<<<1, numThreads>>>();\n",
        "\n",
        "    // Synchronize to wait for all threads to finish\n",
        "    cudaDeviceSynchronize();\n",
        "\n",
        "    return 0;\n",
        "}"
      ],
      "metadata": {
        "colab": {
          "base_uri": "https://localhost:8080/"
        },
        "id": "TlwUDJBgOat_",
        "outputId": "6916c037-1c6c-4f2b-9f01-3f1363ad62fd"
      },
      "execution_count": 7,
      "outputs": [
        {
          "output_type": "stream",
          "name": "stdout",
          "text": [
            "Writing helloFromThread.cu\n"
          ]
        }
      ]
    },
    {
      "cell_type": "code",
      "source": [
        "!nvcc helloFromThread.cu -o helloFromThread"
      ],
      "metadata": {
        "id": "jHwzjq-YOyRX"
      },
      "execution_count": 8,
      "outputs": []
    },
    {
      "cell_type": "code",
      "source": [
        "!./helloFromThread"
      ],
      "metadata": {
        "colab": {
          "base_uri": "https://localhost:8080/"
        },
        "id": "In-b4eHyO3Fm",
        "outputId": "77554595-7252-49ec-dc96-8a8c802fd200"
      },
      "execution_count": 10,
      "outputs": [
        {
          "output_type": "stream",
          "name": "stdout",
          "text": [
            "Hello World from Thread ID: 0\n",
            "Hello World from Thread ID: 1\n",
            "Hello World from Thread ID: 2\n",
            "Hello World from Thread ID: 3\n",
            "Hello World from Thread ID: 4\n",
            "Hello World from Thread ID: 5\n",
            "Hello World from Thread ID: 6\n",
            "Hello World from Thread ID: 7\n",
            "Hello World from Thread ID: 8\n",
            "Hello World from Thread ID: 9\n"
          ]
        }
      ]
    },
    {
      "cell_type": "code",
      "source": [
        "%%writefile global.cu\n",
        "#include <iostream>\n",
        "#include <cuda_runtime.h>\n",
        "\n",
        "__global__ void helloFromThreads() {\n",
        "    // Calculate global thread ID (threadIdx.x + blockIdx.x * blockDim.x)\n",
        "    int globalThreadId = blockIdx.x * blockDim.x + threadIdx.x;\n",
        "    printf(\"Hello World from Global Thread ID: %d\\n\", globalThreadId);\n",
        "}\n",
        "\n",
        "int main() {\n",
        "    int numBlocks = 2;      // Number of blocks\n",
        "    int numThreads = 5;     // Number of threads per block\n",
        "\n",
        "    // Launch the kernel with numBlocks and numThreads per block\n",
        "    helloFromThreads<<<numBlocks, numThreads>>>();\n",
        "\n",
        "    // Synchronize to wait for all threads to finish\n",
        "    cudaDeviceSynchronize();\n",
        "\n",
        "    return 0;\n",
        "}\n"
      ],
      "metadata": {
        "colab": {
          "base_uri": "https://localhost:8080/"
        },
        "id": "nrN2-HF3O55b",
        "outputId": "33ce83e6-1145-4370-c9e3-83ee6e60712e"
      },
      "execution_count": 11,
      "outputs": [
        {
          "output_type": "stream",
          "name": "stdout",
          "text": [
            "Writing global.cu\n"
          ]
        }
      ]
    },
    {
      "cell_type": "code",
      "source": [
        "!nvcc global.cu -o global"
      ],
      "metadata": {
        "id": "_LdAHZRQPEs2"
      },
      "execution_count": 12,
      "outputs": []
    },
    {
      "cell_type": "code",
      "source": [
        "!./global"
      ],
      "metadata": {
        "colab": {
          "base_uri": "https://localhost:8080/"
        },
        "id": "h9CxZhU9PG-8",
        "outputId": "f2eedaa6-cd27-4930-c555-5751b92b5bca"
      },
      "execution_count": 13,
      "outputs": [
        {
          "output_type": "stream",
          "name": "stdout",
          "text": [
            "Hello World from Global Thread ID: 0\n",
            "Hello World from Global Thread ID: 1\n",
            "Hello World from Global Thread ID: 2\n",
            "Hello World from Global Thread ID: 3\n",
            "Hello World from Global Thread ID: 4\n",
            "Hello World from Global Thread ID: 5\n",
            "Hello World from Global Thread ID: 6\n",
            "Hello World from Global Thread ID: 7\n",
            "Hello World from Global Thread ID: 8\n",
            "Hello World from Global Thread ID: 9\n"
          ]
        }
      ]
    },
    {
      "cell_type": "code",
      "source": [
        "%%writefile 2dthread.cu\n",
        "#include <iostream>\n",
        "#include <cuda_runtime.h>\n",
        "\n",
        "__global__ void helloFrom2DThreads() {\n",
        "    // Get the 2D block index and thread index\n",
        "    int blockX = blockIdx.x;\n",
        "    int blockY = blockIdx.y;\n",
        "    int threadX = threadIdx.x;\n",
        "    int threadY = threadIdx.y;\n",
        "\n",
        "    // Print the block and thread IDs in 2D\n",
        "    printf(\"Hello World from Block(%d, %d) Thread(%d, %d)\\n\", blockX, blockY, threadX, threadY);\n",
        "}\n",
        "\n",
        "int main() {\n",
        "    // Define 2D block and thread dimensions\n",
        "    dim3 numBlocks(2, 2);      // 2x2 blocks\n",
        "    dim3 numThreads(3, 3);     // 3x3 threads per block\n",
        "\n",
        "    // Launch the kernel with 2D blocks and 2D threads\n",
        "    helloFrom2DThreads<<<numBlocks, numThreads>>>();\n",
        "\n",
        "    // Synchronize to wait for all threads to finish\n",
        "    cudaDeviceSynchronize();\n",
        "\n",
        "    return 0;\n",
        "}"
      ],
      "metadata": {
        "colab": {
          "base_uri": "https://localhost:8080/"
        },
        "id": "bS5LTMOMPISX",
        "outputId": "f4fcc187-c70f-4525-8b3f-27e6d875d5dd"
      },
      "execution_count": 14,
      "outputs": [
        {
          "output_type": "stream",
          "name": "stdout",
          "text": [
            "Writing 2dthread.cu\n"
          ]
        }
      ]
    },
    {
      "cell_type": "code",
      "source": [
        "!nvcc 2dthread.cu -o 2dthread"
      ],
      "metadata": {
        "id": "XcM7NDZ0PMUj"
      },
      "execution_count": 15,
      "outputs": []
    },
    {
      "cell_type": "code",
      "source": [
        "!./2dthread"
      ],
      "metadata": {
        "colab": {
          "base_uri": "https://localhost:8080/"
        },
        "id": "l39kKWkEPOKV",
        "outputId": "00d0c324-5278-402d-ed6d-4bd4b8d83484"
      },
      "execution_count": 16,
      "outputs": [
        {
          "output_type": "stream",
          "name": "stdout",
          "text": [
            "Hello World from Block(0, 1) Thread(0, 0)\n",
            "Hello World from Block(0, 1) Thread(1, 0)\n",
            "Hello World from Block(0, 1) Thread(2, 0)\n",
            "Hello World from Block(0, 1) Thread(0, 1)\n",
            "Hello World from Block(0, 1) Thread(1, 1)\n",
            "Hello World from Block(0, 1) Thread(2, 1)\n",
            "Hello World from Block(0, 1) Thread(0, 2)\n",
            "Hello World from Block(0, 1) Thread(1, 2)\n",
            "Hello World from Block(0, 1) Thread(2, 2)\n",
            "Hello World from Block(0, 0) Thread(0, 0)\n",
            "Hello World from Block(0, 0) Thread(1, 0)\n",
            "Hello World from Block(0, 0) Thread(2, 0)\n",
            "Hello World from Block(0, 0) Thread(0, 1)\n",
            "Hello World from Block(0, 0) Thread(1, 1)\n",
            "Hello World from Block(0, 0) Thread(2, 1)\n",
            "Hello World from Block(0, 0) Thread(0, 2)\n",
            "Hello World from Block(0, 0) Thread(1, 2)\n",
            "Hello World from Block(0, 0) Thread(2, 2)\n",
            "Hello World from Block(1, 1) Thread(0, 0)\n",
            "Hello World from Block(1, 1) Thread(1, 0)\n",
            "Hello World from Block(1, 1) Thread(2, 0)\n",
            "Hello World from Block(1, 1) Thread(0, 1)\n",
            "Hello World from Block(1, 1) Thread(1, 1)\n",
            "Hello World from Block(1, 1) Thread(2, 1)\n",
            "Hello World from Block(1, 1) Thread(0, 2)\n",
            "Hello World from Block(1, 1) Thread(1, 2)\n",
            "Hello World from Block(1, 1) Thread(2, 2)\n",
            "Hello World from Block(1, 0) Thread(0, 0)\n",
            "Hello World from Block(1, 0) Thread(1, 0)\n",
            "Hello World from Block(1, 0) Thread(2, 0)\n",
            "Hello World from Block(1, 0) Thread(0, 1)\n",
            "Hello World from Block(1, 0) Thread(1, 1)\n",
            "Hello World from Block(1, 0) Thread(2, 1)\n",
            "Hello World from Block(1, 0) Thread(0, 2)\n",
            "Hello World from Block(1, 0) Thread(1, 2)\n",
            "Hello World from Block(1, 0) Thread(2, 2)\n"
          ]
        }
      ]
    },
    {
      "cell_type": "code",
      "source": [],
      "metadata": {
        "id": "sY0a0uGcPRpX"
      },
      "execution_count": null,
      "outputs": []
    }
  ]
}